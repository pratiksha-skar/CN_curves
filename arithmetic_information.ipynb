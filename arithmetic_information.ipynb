{
 "cells": [
  {
   "cell_type": "markdown",
   "id": "b889a63c",
   "metadata": {},
   "source": [
    "Generating data for 2-Selmer ranks, congruency classes of n modulo 8, 16 and 32, and the number of prime factors of n"
   ]
  },
  {
   "cell_type": "code",
   "execution_count": 8,
   "id": "32c828b5",
   "metadata": {},
   "outputs": [
    {
     "name": "stdout",
     "output_type": "stream",
     "text": [
      "Finished. Wrote 607926 rows to 'residue_and_omega_results.csv'.\n"
     ]
    }
   ],
   "source": [
    "import csv\n",
    "from sage.all import *\n",
    "\n",
    "# Parameters\n",
    "INPUT_FILE = \"data_with_mod8.csv\"\n",
    "OUTPUT_FILE = \"residue_and_omega_results.csv\"\n",
    "BATCH_SIZE = 10000  # Useful to limit memory usage\n",
    "\n",
    "# Load input CSV with extra columns\n",
    "def load_data(filename):\n",
    "    with open(filename, newline='') as f:\n",
    "        reader = csv.DictReader(f)\n",
    "        return [\n",
    "            (int(row['n']), int(row['2selmer_rank']), int(row['iscongruent']), int(row['mod8']))\n",
    "            for row in reader\n",
    "        ]\n",
    "\n",
    "# Compute mod values and omega\n",
    "def process_batch(batch):\n",
    "    results = []\n",
    "    for n, selmer, iscong, mod8 in batch:\n",
    "        mod16 = n % 16\n",
    "        mod32 = n % 32\n",
    "        omega = len(prime_factors(n))\n",
    "        results.append((n, selmer, iscong, mod8, mod16, mod32, omega))\n",
    "    return results\n",
    "\n",
    "# Write output CSV\n",
    "def write_results(results, filename):\n",
    "    with open(filename, mode='w', newline='') as f:\n",
    "        writer = csv.writer(f)\n",
    "        writer.writerow(['n', '2selmer_rank', 'iscongruent','mod8', 'n_mod_16', 'n_mod_32', 'omega'])\n",
    "        for row in results:\n",
    "            writer.writerow(row)\n",
    "\n",
    "# Main function\n",
    "def main():\n",
    "    data = load_data(INPUT_FILE)\n",
    "    data.sort()  # Ensure results are globally ordered by n\n",
    "\n",
    "    combined_results = []\n",
    "    for i in range(0, len(data), BATCH_SIZE):\n",
    "        batch = data[i:i+BATCH_SIZE]\n",
    "        batch_results = process_batch(batch)\n",
    "        combined_results.extend(batch_results)\n",
    "\n",
    "    write_results(combined_results, OUTPUT_FILE)\n",
    "    print(f\"Finished. Wrote {len(combined_results)} rows to '{OUTPUT_FILE}'.\")\n",
    "\n",
    "# Execute\n",
    "if __name__ == \"__main__\":\n",
    "    main()\n"
   ]
  },
  {
   "cell_type": "code",
   "execution_count": null,
   "id": "23eb8fae",
   "metadata": {},
   "outputs": [],
   "source": []
  }
 ],
 "metadata": {
  "kernelspec": {
   "display_name": "SageMath 9.5",
   "language": "sage",
   "name": "sagemath"
  },
  "language_info": {
   "codemirror_mode": {
    "name": "ipython",
    "version": 3
   },
   "file_extension": ".py",
   "mimetype": "text/x-python",
   "name": "python",
   "nbconvert_exporter": "python",
   "pygments_lexer": "ipython3",
   "version": "3.11.2"
  }
 },
 "nbformat": 4,
 "nbformat_minor": 5
}
