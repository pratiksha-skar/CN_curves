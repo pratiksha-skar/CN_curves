{
 "cells": [
  {
   "cell_type": "markdown",
   "id": "ef0b85b4",
   "metadata": {},
   "source": [
    "Listing all positive cubefree integers < 1,000,000 using sieve."
   ]
  },
  {
   "cell_type": "code",
   "execution_count": 3,
   "id": "b02c82e3",
   "metadata": {},
   "outputs": [
    {
     "name": "stdout",
     "output_type": "stream",
     "text": [
      "Done. Found 831910 cubefree numbers ≤ 1000000 using 15 processes.\n"
     ]
    }
   ],
   "source": [
    "import numpy as np\n",
    "import pandas as pd\n",
    "import math\n",
    "from multiprocessing import Pool, cpu_count\n",
    "\n",
    "N = 1_000_000\n",
    "NUM_WORKERS = cpu_count()\n",
    "\n",
    "def mark_multiples(args):\n",
    "    \"\"\"Marks non-squarefree numbers by setting False at multiples of square.\"\"\"\n",
    "    cube, n = args\n",
    "    mask = np.ones(n + 1, dtype=bool)\n",
    "    for multiple in range(cube, n + 1, cube):\n",
    "        mask[multiple] = False\n",
    "    return mask\n",
    "\n",
    "def generate_cubefree_parallel(n, workers=NUM_WORKERS):\n",
    "    is_cubefree = np.ones(n + 1, dtype=bool)\n",
    "    is_cubefree[0] = False\n",
    "\n",
    "    max_root = int(math.cbrt(n)) + 1\n",
    "    cubes = [i * i * i for i in range(2, max_root)]\n",
    "\n",
    "    with Pool(processes=workers) as pool:\n",
    "        results = pool.map(mark_multiples, [(cb, n) for cb in cubes])\n",
    "\n",
    "    # Combine masks (elementwise AND)\n",
    "    for mask in results:\n",
    "        is_cubefree &= mask\n",
    "\n",
    "    return np.nonzero(is_cubefree)[0]\n",
    "\n",
    "def main():\n",
    "    cubefree_numbers = generate_cubefree_parallel(N)\n",
    "\n",
    "    # Save to CSV\n",
    "    pd.DataFrame({'n': cubefree_numbers}).to_csv(\"cubefr1mil.csv\", index=False)\n",
    "\n",
    "    print(f\"Done. Found {len(cubefree_numbers)} cubefree numbers ≤ {N} using {NUM_WORKERS} processes.\")\n",
    "\n",
    "if __name__ == \"__main__\":\n",
    "    main()"
   ]
  },
  {
   "cell_type": "markdown",
   "id": "afb5495f",
   "metadata": {},
   "source": [
    "Listing all fourth power-free positive integers upto 1,000,000 using sieve."
   ]
  },
  {
   "cell_type": "code",
   "execution_count": 2,
   "id": "08bf67da",
   "metadata": {},
   "outputs": [
    {
     "name": "stdout",
     "output_type": "stream",
     "text": [
      "Done. Found 923939 4th-power free numbers ≤ 1000000 using 15 processes.\n"
     ]
    }
   ],
   "source": [
    "import numpy as np\n",
    "import pandas as pd\n",
    "import math\n",
    "from multiprocessing import Pool, cpu_count\n",
    "\n",
    "N = 1_000_000\n",
    "NUM_WORKERS = cpu_count()\n",
    "\n",
    "def mark_multiples(args):\n",
    "    \"\"\"Marks non-squarefree numbers by setting False at multiples of square.\"\"\"\n",
    "    fourthpow, n = args\n",
    "    mask = np.ones(n + 1, dtype=bool)\n",
    "    for multiple in range(fourthpow, n + 1, fourthpow):\n",
    "        mask[multiple] = False\n",
    "    return mask\n",
    "\n",
    "def generate_4thpowfree_parallel(n, workers=NUM_WORKERS):\n",
    "    is_4thpowfree = np.ones(n + 1, dtype=bool)\n",
    "    is_4thpowfree[0] = False\n",
    "\n",
    "    max_root = int(math.sqrt(math.sqrt(n))) + 1\n",
    "    fourthpows = [i * i * i * i for i in range(2, max_root)]\n",
    "\n",
    "    with Pool(processes=workers) as pool:\n",
    "        results = pool.map(mark_multiples, [(cb, n) for cb in fourthpows])\n",
    "\n",
    "    # Combine masks (elementwise AND)\n",
    "    for mask in results:\n",
    "        is_4thpowfree &= mask\n",
    "\n",
    "    return np.nonzero(is_4thpowfree)[0]\n",
    "\n",
    "def main():\n",
    "    fourthpowfree_numbers = generate_4thpowfree_parallel(N)\n",
    "\n",
    "    # Save to CSV\n",
    "    pd.DataFrame({'n': fourthpowfree_numbers}).to_csv(\"4thpowfr1mil.csv\", index=False)\n",
    "\n",
    "    print(f\"Done. Found {len(fourthpowfree_numbers)} 4th-power free numbers ≤ {N} using {NUM_WORKERS} processes.\")\n",
    "\n",
    "if __name__ == \"__main__\":\n",
    "    main()\n"
   ]
  },
  {
   "cell_type": "code",
   "execution_count": null,
   "id": "8eb83b90",
   "metadata": {},
   "outputs": [],
   "source": []
  }
 ],
 "metadata": {
  "kernelspec": {
   "display_name": "Python (congruent)",
   "language": "python",
   "name": "congruent"
  },
  "language_info": {
   "codemirror_mode": {
    "name": "ipython",
    "version": 3
   },
   "file_extension": ".py",
   "mimetype": "text/x-python",
   "name": "python",
   "nbconvert_exporter": "python",
   "pygments_lexer": "ipython3",
   "version": "3.11.11"
  }
 },
 "nbformat": 4,
 "nbformat_minor": 5
}
