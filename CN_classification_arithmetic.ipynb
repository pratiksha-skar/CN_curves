{
 "cells": [
  {
   "cell_type": "markdown",
   "id": "ebf20e8d",
   "metadata": {},
   "source": [
    "We use logistic regression, random forest and MLP classifier models to predict whether a given number is congruent or not depending on the arithmetic features 2-Selmer rank, congruence classes of n modulo 16 and 32, and the number of prime factors of n as input."
   ]
  },
  {
   "cell_type": "code",
   "execution_count": 7,
   "id": "74c8ff5f",
   "metadata": {},
   "outputs": [
    {
     "name": "stdout",
     "output_type": "stream",
     "text": [
      "\n",
      "Logistic Regression Accuracy: 0.614626683993223\n",
      "\n",
      "Random Forest Accuracy: 0.9533334429950817\n",
      "Feature Importances: {'2selmer': 0.5965349603721879, 'mod16': 0.3282725543221021, 'mod32': 0.06247481908179647, 'omega': 0.012717666223913376}\n",
      "\n",
      "MLP Classifier Accuracy: 0.9532182981593276\n"
     ]
    }
   ],
   "source": [
    "import pandas as pd\n",
    "from sklearn.model_selection import train_test_split\n",
    "from sklearn.preprocessing import StandardScaler\n",
    "from sklearn.metrics import accuracy_score, classification_report\n",
    "from sklearn.linear_model import LogisticRegression\n",
    "from sklearn.ensemble import RandomForestClassifier\n",
    "from sklearn.neural_network import MLPClassifier\n",
    "#import xgboost as xgb\n",
    "\n",
    "# Load dataset\n",
    "df = pd.read_csv(\"residue_and_omega_results.csv\")\n",
    "\n",
    "# Features and target\n",
    "features = ['2selmer', 'mod16', 'mod32', 'omega']\n",
    "X = df[features]\n",
    "y = df['iscongruent']\n",
    "\n",
    "# Train-test split\n",
    "X_train, X_test, y_train, y_test = train_test_split(X, y, test_size=0.2, random_state=42)\n",
    "\n",
    "# Optional scaling (helps MLP and Logistic Regression)\n",
    "scaler = StandardScaler()\n",
    "X_train_scaled = scaler.fit_transform(X_train)\n",
    "X_test_scaled = scaler.transform(X_test)\n",
    "\n",
    "# Logistic Regression\n",
    "lr = LogisticRegression()\n",
    "lr.fit(X_train_scaled, y_train)\n",
    "y_pred_lr = lr.predict(X_test_scaled)\n",
    "print(\"\\nLogistic Regression Accuracy:\", accuracy_score(y_test, y_pred_lr))\n",
    "\n",
    "# Random Forest\n",
    "rf = RandomForestClassifier(n_estimators=100, random_state=42)\n",
    "rf.fit(X_train, y_train)\n",
    "y_pred_rf = rf.predict(X_test)\n",
    "print(\"\\nRandom Forest Accuracy:\", accuracy_score(y_test, y_pred_rf))\n",
    "print(\"Feature Importances:\", dict(zip(features, rf.feature_importances_)))\n",
    "\n",
    "'''\n",
    "# XGBoost\n",
    "xgb_model = xgb.XGBClassifier(use_label_encoder=False, eval_metric='logloss')\n",
    "xgb_model.fit(X_train, y_train)\n",
    "y_pred_xgb = xgb_model.predict(X_test)\n",
    "print(\"\\nXGBoost Accuracy:\", accuracy_score(y_test, y_pred_xgb))\n",
    "print(\"Feature Importances:\", dict(zip(features, xgb_model.feature_importances_)))\n",
    "'''\n",
    "\n",
    "# MLP Neural Network\n",
    "mlp = MLPClassifier(hidden_layer_sizes=(64, 32), max_iter=500, random_state=42)\n",
    "mlp.fit(X_train_scaled, y_train)\n",
    "y_pred_mlp = mlp.predict(X_test_scaled)\n",
    "print(\"\\nMLP Classifier Accuracy:\", accuracy_score(y_test, y_pred_mlp))\n",
    "\n",
    "# Classification Report\n",
    "#print(\"\\nClassification Report (XGBoost):\\n\", classification_report(y_test, y_pred_xgb))\n"
   ]
  },
  {
   "cell_type": "code",
   "execution_count": 2,
   "id": "c8278fcb",
   "metadata": {},
   "outputs": [
    {
     "name": "stdout",
     "output_type": "stream",
     "text": [
      "/home/elliptic/miniconda3/envs/congruent/bin/python\r\n"
     ]
    }
   ],
   "source": [
    "!which python"
   ]
  },
  {
   "cell_type": "code",
   "execution_count": null,
   "id": "38ed249e",
   "metadata": {},
   "outputs": [],
   "source": []
  }
 ],
 "metadata": {
  "kernelspec": {
   "display_name": "Python 3 (ipykernel)",
   "language": "python",
   "name": "python3"
  },
  "language_info": {
   "codemirror_mode": {
    "name": "ipython",
    "version": 3
   },
   "file_extension": ".py",
   "mimetype": "text/x-python",
   "name": "python",
   "nbconvert_exporter": "python",
   "pygments_lexer": "ipython3",
   "version": "3.11.2"
  }
 },
 "nbformat": 4,
 "nbformat_minor": 5
}
