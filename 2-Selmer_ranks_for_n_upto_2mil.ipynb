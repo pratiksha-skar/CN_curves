{
 "cells": [
  {
   "cell_type": "markdown",
   "id": "6e8366a3",
   "metadata": {},
   "source": [
    "Computing 2-Selmer ranks of CN curves with n upto 2,000,000"
   ]
  },
  {
   "cell_type": "code",
   "execution_count": null,
   "id": "3143eff1-00d8-4b6b-857f-0d4386d82997",
   "metadata": {},
   "outputs": [],
   "source": [
    "import csv\n",
    "from sage.all import *\n",
    "from sage.parallel.decorate import parallel\n",
    "\n",
    "# Parameters\n",
    "input_file = \"sq2mil.csv\"\n",
    "output_file = \"selmer_out.csv\"\n",
    "batch_size = 1000\n",
    "num_cores = 15  # Adjust to match your CPU\n",
    "\n",
    "# ----------------------------\n",
    "# Parallel function to compute 2-Selmer rank\n",
    "# ----------------------------\n",
    "@parallel(ncpus=num_cores)\n",
    "def compute_selmer2(n):\n",
    "    try:\n",
    "        E = EllipticCurve([0, 0, 0, -n^2, 0])\n",
    "        selmer_rank = E.selmer_rank()\n",
    "        return (n, selmer_rank)\n",
    "    except Exception as e:\n",
    "        return (n, None)\n",
    "\n",
    "# ----------------------------\n",
    "# Read 'n' from CSV in batches, skip header\n",
    "# ----------------------------\n",
    "def read_batches_with_header(filename, batch_size):\n",
    "    with open(filename, 'r') as f:\n",
    "        reader = csv.reader(f)\n",
    "        header = next(reader)  # Skip header\n",
    "        assert header[0].strip().lower() == 'n'\n",
    "        batch = []\n",
    "        for row in reader:\n",
    "            if not row: continue\n",
    "            try:\n",
    "                n = int(row[0].strip())\n",
    "                batch.append(n)\n",
    "            except:\n",
    "                continue\n",
    "            if len(batch) == batch_size:\n",
    "                yield batch\n",
    "                batch = []\n",
    "        if batch:\n",
    "            yield batch\n",
    "\n",
    "# ----------------------------\n",
    "# Process batches in parallel\n",
    "# ----------------------------\n",
    "all_results = []\n",
    "\n",
    "for batch in read_batches_with_header(input_file, batch_size):\n",
    "    for (_, result) in compute_selmer2(batch):\n",
    "        n, selmer = result\n",
    "        if selmer is not None:\n",
    "            all_results.append((n, selmer))\n",
    "\n",
    "# ----------------------------\n",
    "# Sort and write to output\n",
    "# ----------------------------\n",
    "all_results.sort(key=lambda x: x[0])\n",
    "\n",
    "with open(output_file, 'w', newline='') as f:\n",
    "    writer = csv.writer(f)\n",
    "    writer.writerow([\"n\", \"selmer2_rank\"])\n",
    "    writer.writerows(all_results)\n"
   ]
  },
  {
   "cell_type": "code",
   "execution_count": null,
   "id": "c2a96639-30bd-4b7f-8f29-d4c703afca49",
   "metadata": {},
   "outputs": [],
   "source": []
  }
 ],
 "metadata": {
  "kernelspec": {
   "display_name": "SageMath 9.5",
   "language": "sage",
   "name": "sagemath"
  },
  "language_info": {
   "codemirror_mode": {
    "name": "ipython",
    "version": 3
   },
   "file_extension": ".py",
   "mimetype": "text/x-python",
   "name": "python",
   "nbconvert_exporter": "python",
   "pygments_lexer": "ipython3",
   "version": "3.11.2"
  }
 },
 "nbformat": 4,
 "nbformat_minor": 5
}
