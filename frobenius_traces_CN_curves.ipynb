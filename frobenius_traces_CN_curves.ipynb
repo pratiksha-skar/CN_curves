{
 "cells": [
  {
   "cell_type": "markdown",
   "id": "d5c54065-62d8-4bce-80a1-a38c250c57a5",
   "metadata": {},
   "source": [
    "# Average of Frobenius traces \n",
    "\n",
    "The notebook contains code that calculates average of $a_p(E_D)$ values as $D$ increases. Interesting thing to note is that there is no murmuration-like pattern. However, these averages tend to zero for every $p$. "
   ]
  },
  {
   "cell_type": "code",
   "execution_count": 1,
   "id": "d3cfd0cd",
   "metadata": {},
   "outputs": [],
   "source": [
    "import pandas as pd\n",
    "import numpy as np\n",
    "import plotly.graph_objs as go\n",
    "import os\n",
    "from sympy import primerange\n",
    "import nbformat\n",
    "\n",
    "\n",
    "\n",
    "parquet_file = \"frobenius_cn1k.parquet\""
   ]
  },
  {
   "cell_type": "code",
   "execution_count": 2,
   "id": "7a1c3fc3",
   "metadata": {},
   "outputs": [],
   "source": [
    "# === STEP 2: Load data ===\n",
    "df = pd.read_parquet(parquet_file, engine=\"pyarrow\")\n",
    "\n",
    "# === STEP 3: Setup ===\n",
    "num_primes = 1000\n",
    "trace_cols = [f'a{i}' for i in range(1, num_primes + 1)]\n",
    "if not all(col in df.columns for col in trace_cols) or 'n' not in df.columns:\n",
    "    raise ValueError(\"Missing 'n' or one or more a1 to a1000 columns.\")\n",
    "\n",
    "df.loc[:, 'mod8'] = df['n'] % 8"
   ]
  },
  {
   "cell_type": "code",
   "execution_count": 10,
   "id": "5a98f814",
   "metadata": {},
   "outputs": [
    {
     "data": {
      "application/vnd.plotly.v1+json": {
       "config": {
        "plotlyServerURL": "https://plot.ly"
       },
       "data": [
        {
         "customdata": {
          "bdata": "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",
          "dtype": "i2",
          "shape": "1000, 1"
         },
         "hovertemplate": "Index: %{x}<br>Prime: %{customdata[0]}<br>Average aₚ: %{y:.3f}<extra></extra>",
         "marker": {
          "color": "black",
          "size": 6
         },
         "mode": "markers",
         "name": "n ≡ 7 mod 8",
         "type": "scatter",
         "x": {
          "bdata": "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",
          "dtype": "i2"
         },
         "y": {
          "bdata": "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",
          "dtype": "f8"
         }
        }
       ],
       "layout": {
        "hovermode": "closest",
        "legend": {
         "title": {
          "text": "Residue mod 8"
         }
        },
        "template": {
         "data": {
          "bar": [
           {
            "error_x": {
             "color": "#2a3f5f"
            },
            "error_y": {
             "color": "#2a3f5f"
            },
            "marker": {
             "line": {
              "color": "white",
              "width": 0.5
             },
             "pattern": {
              "fillmode": "overlay",
              "size": 10,
              "solidity": 0.2
             }
            },
            "type": "bar"
           }
          ],
          "barpolar": [
           {
            "marker": {
             "line": {
              "color": "white",
              "width": 0.5
             },
             "pattern": {
              "fillmode": "overlay",
              "size": 10,
              "solidity": 0.2
             }
            },
            "type": "barpolar"
           }
          ],
          "carpet": [
           {
            "aaxis": {
             "endlinecolor": "#2a3f5f",
             "gridcolor": "#C8D4E3",
             "linecolor": "#C8D4E3",
             "minorgridcolor": "#C8D4E3",
             "startlinecolor": "#2a3f5f"
            },
            "baxis": {
             "endlinecolor": "#2a3f5f",
             "gridcolor": "#C8D4E3",
             "linecolor": "#C8D4E3",
             "minorgridcolor": "#C8D4E3",
             "startlinecolor": "#2a3f5f"
            },
            "type": "carpet"
           }
          ],
          "choropleth": [
           {
            "colorbar": {
             "outlinewidth": 0,
             "ticks": ""
            },
            "type": "choropleth"
           }
          ],
          "contour": [
           {
            "colorbar": {
             "outlinewidth": 0,
             "ticks": ""
            },
            "colorscale": [
             [
              0,
              "#0d0887"
             ],
             [
              0.1111111111111111,
              "#46039f"
             ],
             [
              0.2222222222222222,
              "#7201a8"
             ],
             [
              0.3333333333333333,
              "#9c179e"
             ],
             [
              0.4444444444444444,
              "#bd3786"
             ],
             [
              0.5555555555555556,
              "#d8576b"
             ],
             [
              0.6666666666666666,
              "#ed7953"
             ],
             [
              0.7777777777777778,
              "#fb9f3a"
             ],
             [
              0.8888888888888888,
              "#fdca26"
             ],
             [
              1,
              "#f0f921"
             ]
            ],
            "type": "contour"
           }
          ],
          "contourcarpet": [
           {
            "colorbar": {
             "outlinewidth": 0,
             "ticks": ""
            },
            "type": "contourcarpet"
           }
          ],
          "heatmap": [
           {
            "colorbar": {
             "outlinewidth": 0,
             "ticks": ""
            },
            "colorscale": [
             [
              0,
              "#0d0887"
             ],
             [
              0.1111111111111111,
              "#46039f"
             ],
             [
              0.2222222222222222,
              "#7201a8"
             ],
             [
              0.3333333333333333,
              "#9c179e"
             ],
             [
              0.4444444444444444,
              "#bd3786"
             ],
             [
              0.5555555555555556,
              "#d8576b"
             ],
             [
              0.6666666666666666,
              "#ed7953"
             ],
             [
              0.7777777777777778,
              "#fb9f3a"
             ],
             [
              0.8888888888888888,
              "#fdca26"
             ],
             [
              1,
              "#f0f921"
             ]
            ],
            "type": "heatmap"
           }
          ],
          "histogram": [
           {
            "marker": {
             "pattern": {
              "fillmode": "overlay",
              "size": 10,
              "solidity": 0.2
             }
            },
            "type": "histogram"
           }
          ],
          "histogram2d": [
           {
            "colorbar": {
             "outlinewidth": 0,
             "ticks": ""
            },
            "colorscale": [
             [
              0,
              "#0d0887"
             ],
             [
              0.1111111111111111,
              "#46039f"
             ],
             [
              0.2222222222222222,
              "#7201a8"
             ],
             [
              0.3333333333333333,
              "#9c179e"
             ],
             [
              0.4444444444444444,
              "#bd3786"
             ],
             [
              0.5555555555555556,
              "#d8576b"
             ],
             [
              0.6666666666666666,
              "#ed7953"
             ],
             [
              0.7777777777777778,
              "#fb9f3a"
             ],
             [
              0.8888888888888888,
              "#fdca26"
             ],
             [
              1,
              "#f0f921"
             ]
            ],
            "type": "histogram2d"
           }
          ],
          "histogram2dcontour": [
           {
            "colorbar": {
             "outlinewidth": 0,
             "ticks": ""
            },
            "colorscale": [
             [
              0,
              "#0d0887"
             ],
             [
              0.1111111111111111,
              "#46039f"
             ],
             [
              0.2222222222222222,
              "#7201a8"
             ],
             [
              0.3333333333333333,
              "#9c179e"
             ],
             [
              0.4444444444444444,
              "#bd3786"
             ],
             [
              0.5555555555555556,
              "#d8576b"
             ],
             [
              0.6666666666666666,
              "#ed7953"
             ],
             [
              0.7777777777777778,
              "#fb9f3a"
             ],
             [
              0.8888888888888888,
              "#fdca26"
             ],
             [
              1,
              "#f0f921"
             ]
            ],
            "type": "histogram2dcontour"
           }
          ],
          "mesh3d": [
           {
            "colorbar": {
             "outlinewidth": 0,
             "ticks": ""
            },
            "type": "mesh3d"
           }
          ],
          "parcoords": [
           {
            "line": {
             "colorbar": {
              "outlinewidth": 0,
              "ticks": ""
             }
            },
            "type": "parcoords"
           }
          ],
          "pie": [
           {
            "automargin": true,
            "type": "pie"
           }
          ],
          "scatter": [
           {
            "fillpattern": {
             "fillmode": "overlay",
             "size": 10,
             "solidity": 0.2
            },
            "type": "scatter"
           }
          ],
          "scatter3d": [
           {
            "line": {
             "colorbar": {
              "outlinewidth": 0,
              "ticks": ""
             }
            },
            "marker": {
             "colorbar": {
              "outlinewidth": 0,
              "ticks": ""
             }
            },
            "type": "scatter3d"
           }
          ],
          "scattercarpet": [
           {
            "marker": {
             "colorbar": {
              "outlinewidth": 0,
              "ticks": ""
             }
            },
            "type": "scattercarpet"
           }
          ],
          "scattergeo": [
           {
            "marker": {
             "colorbar": {
              "outlinewidth": 0,
              "ticks": ""
             }
            },
            "type": "scattergeo"
           }
          ],
          "scattergl": [
           {
            "marker": {
             "colorbar": {
              "outlinewidth": 0,
              "ticks": ""
             }
            },
            "type": "scattergl"
           }
          ],
          "scattermap": [
           {
            "marker": {
             "colorbar": {
              "outlinewidth": 0,
              "ticks": ""
             }
            },
            "type": "scattermap"
           }
          ],
          "scattermapbox": [
           {
            "marker": {
             "colorbar": {
              "outlinewidth": 0,
              "ticks": ""
             }
            },
            "type": "scattermapbox"
           }
          ],
          "scatterpolar": [
           {
            "marker": {
             "colorbar": {
              "outlinewidth": 0,
              "ticks": ""
             }
            },
            "type": "scatterpolar"
           }
          ],
          "scatterpolargl": [
           {
            "marker": {
             "colorbar": {
              "outlinewidth": 0,
              "ticks": ""
             }
            },
            "type": "scatterpolargl"
           }
          ],
          "scatterternary": [
           {
            "marker": {
             "colorbar": {
              "outlinewidth": 0,
              "ticks": ""
             }
            },
            "type": "scatterternary"
           }
          ],
          "surface": [
           {
            "colorbar": {
             "outlinewidth": 0,
             "ticks": ""
            },
            "colorscale": [
             [
              0,
              "#0d0887"
             ],
             [
              0.1111111111111111,
              "#46039f"
             ],
             [
              0.2222222222222222,
              "#7201a8"
             ],
             [
              0.3333333333333333,
              "#9c179e"
             ],
             [
              0.4444444444444444,
              "#bd3786"
             ],
             [
              0.5555555555555556,
              "#d8576b"
             ],
             [
              0.6666666666666666,
              "#ed7953"
             ],
             [
              0.7777777777777778,
              "#fb9f3a"
             ],
             [
              0.8888888888888888,
              "#fdca26"
             ],
             [
              1,
              "#f0f921"
             ]
            ],
            "type": "surface"
           }
          ],
          "table": [
           {
            "cells": {
             "fill": {
              "color": "#EBF0F8"
             },
             "line": {
              "color": "white"
             }
            },
            "header": {
             "fill": {
              "color": "#C8D4E3"
             },
             "line": {
              "color": "white"
             }
            },
            "type": "table"
           }
          ]
         },
         "layout": {
          "annotationdefaults": {
           "arrowcolor": "#2a3f5f",
           "arrowhead": 0,
           "arrowwidth": 1
          },
          "autotypenumbers": "strict",
          "coloraxis": {
           "colorbar": {
            "outlinewidth": 0,
            "ticks": ""
           }
          },
          "colorscale": {
           "diverging": [
            [
             0,
             "#8e0152"
            ],
            [
             0.1,
             "#c51b7d"
            ],
            [
             0.2,
             "#de77ae"
            ],
            [
             0.3,
             "#f1b6da"
            ],
            [
             0.4,
             "#fde0ef"
            ],
            [
             0.5,
             "#f7f7f7"
            ],
            [
             0.6,
             "#e6f5d0"
            ],
            [
             0.7,
             "#b8e186"
            ],
            [
             0.8,
             "#7fbc41"
            ],
            [
             0.9,
             "#4d9221"
            ],
            [
             1,
             "#276419"
            ]
           ],
           "sequential": [
            [
             0,
             "#0d0887"
            ],
            [
             0.1111111111111111,
             "#46039f"
            ],
            [
             0.2222222222222222,
             "#7201a8"
            ],
            [
             0.3333333333333333,
             "#9c179e"
            ],
            [
             0.4444444444444444,
             "#bd3786"
            ],
            [
             0.5555555555555556,
             "#d8576b"
            ],
            [
             0.6666666666666666,
             "#ed7953"
            ],
            [
             0.7777777777777778,
             "#fb9f3a"
            ],
            [
             0.8888888888888888,
             "#fdca26"
            ],
            [
             1,
             "#f0f921"
            ]
           ],
           "sequentialminus": [
            [
             0,
             "#0d0887"
            ],
            [
             0.1111111111111111,
             "#46039f"
            ],
            [
             0.2222222222222222,
             "#7201a8"
            ],
            [
             0.3333333333333333,
             "#9c179e"
            ],
            [
             0.4444444444444444,
             "#bd3786"
            ],
            [
             0.5555555555555556,
             "#d8576b"
            ],
            [
             0.6666666666666666,
             "#ed7953"
            ],
            [
             0.7777777777777778,
             "#fb9f3a"
            ],
            [
             0.8888888888888888,
             "#fdca26"
            ],
            [
             1,
             "#f0f921"
            ]
           ]
          },
          "colorway": [
           "#636efa",
           "#EF553B",
           "#00cc96",
           "#ab63fa",
           "#FFA15A",
           "#19d3f3",
           "#FF6692",
           "#B6E880",
           "#FF97FF",
           "#FECB52"
          ],
          "font": {
           "color": "#2a3f5f"
          },
          "geo": {
           "bgcolor": "white",
           "lakecolor": "white",
           "landcolor": "white",
           "showlakes": true,
           "showland": true,
           "subunitcolor": "#C8D4E3"
          },
          "hoverlabel": {
           "align": "left"
          },
          "hovermode": "closest",
          "mapbox": {
           "style": "light"
          },
          "paper_bgcolor": "white",
          "plot_bgcolor": "white",
          "polar": {
           "angularaxis": {
            "gridcolor": "#EBF0F8",
            "linecolor": "#EBF0F8",
            "ticks": ""
           },
           "bgcolor": "white",
           "radialaxis": {
            "gridcolor": "#EBF0F8",
            "linecolor": "#EBF0F8",
            "ticks": ""
           }
          },
          "scene": {
           "xaxis": {
            "backgroundcolor": "white",
            "gridcolor": "#DFE8F3",
            "gridwidth": 2,
            "linecolor": "#EBF0F8",
            "showbackground": true,
            "ticks": "",
            "zerolinecolor": "#EBF0F8"
           },
           "yaxis": {
            "backgroundcolor": "white",
            "gridcolor": "#DFE8F3",
            "gridwidth": 2,
            "linecolor": "#EBF0F8",
            "showbackground": true,
            "ticks": "",
            "zerolinecolor": "#EBF0F8"
           },
           "zaxis": {
            "backgroundcolor": "white",
            "gridcolor": "#DFE8F3",
            "gridwidth": 2,
            "linecolor": "#EBF0F8",
            "showbackground": true,
            "ticks": "",
            "zerolinecolor": "#EBF0F8"
           }
          },
          "shapedefaults": {
           "line": {
            "color": "#2a3f5f"
           }
          },
          "ternary": {
           "aaxis": {
            "gridcolor": "#DFE8F3",
            "linecolor": "#A2B1C6",
            "ticks": ""
           },
           "baxis": {
            "gridcolor": "#DFE8F3",
            "linecolor": "#A2B1C6",
            "ticks": ""
           },
           "bgcolor": "white",
           "caxis": {
            "gridcolor": "#DFE8F3",
            "linecolor": "#A2B1C6",
            "ticks": ""
           }
          },
          "title": {
           "x": 0.05
          },
          "xaxis": {
           "automargin": true,
           "gridcolor": "#EBF0F8",
           "linecolor": "#EBF0F8",
           "ticks": "",
           "title": {
            "standoff": 15
           },
           "zerolinecolor": "#EBF0F8",
           "zerolinewidth": 2
          },
          "yaxis": {
           "automargin": true,
           "gridcolor": "#EBF0F8",
           "linecolor": "#EBF0F8",
           "ticks": "",
           "title": {
            "standoff": 15
           },
           "zerolinecolor": "#EBF0F8",
           "zerolinewidth": 2
          }
         }
        },
        "title": {
         "text": "Average Frobenius Traces (Hover Shows Prime)"
        },
        "xaxis": {
         "title": {
          "text": "Prime index"
         }
        },
        "yaxis": {
         "title": {
          "text": "Average trace"
         }
        }
       }
      }
     },
     "metadata": {},
     "output_type": "display_data"
    }
   ],
   "source": [
    "# === Generate first 1000 primes for tooltips ===\n",
    "primes = list(primerange(0, 7920))[:num_primes]  # 7920 > 1000th prime\n",
    "\n",
    "# === STEP 4: Plot ===\n",
    "fig = go.Figure()\n",
    "colors = ['teal', 'red', 'green', 'blue', 'orange', 'purple', 'brown', 'black']\n",
    "\n",
    "#for residue in range(8):\n",
    "#    group = df[df['mod8'] == residue]\n",
    "#    if group.empty:\n",
    "#        continue\n",
    "\n",
    "sqrt_p = np.sqrt(primes)\n",
    "noramalized = df[trace_cols].values / (2 * sqrt_p)\n",
    "naverages = noramalized.mean(axis=0)\n",
    "\n",
    "averages = df[trace_cols].mean().values\n",
    "indices = np.arange(1, num_primes + 1)\n",
    "\n",
    "fig.add_trace(go.Scatter(\n",
    "   x=indices,\n",
    "   y=naverages,\n",
    "   mode='markers',\n",
    "   name=f'n ≡ {residue} mod 8',\n",
    "   marker=dict(size=6, color=colors[residue]),\n",
    "   hovertemplate=(\n",
    "            'Index: %{x}<br>'\n",
    "            'Prime: %{customdata[0]}<br>'\n",
    "            'Average aₚ: %{y:.3f}<extra></extra>'\n",
    "   ),\n",
    "   customdata=np.array([[p] for p in primes])\n",
    "))\n",
    "\n",
    "# === STEP 5: Layout ===\n",
    "fig.update_layout(\n",
    "    title='Average Frobenius Traces (Hover Shows Prime)',\n",
    "    xaxis_title='Prime index',\n",
    "    yaxis_title='Average trace',\n",
    "    template='plotly_white',\n",
    "    hovermode='closest',\n",
    "    legend_title='Residue mod 8'\n",
    ")\n",
    "\n",
    "fig.show()\n",
    "fig.write_html(\"frobenius_plot_normal.html\")"
   ]
  },
  {
   "cell_type": "code",
   "execution_count": 7,
   "id": "07e01948",
   "metadata": {},
   "outputs": [],
   "source": [
    "import pandas as pd\n",
    "import numpy as np\n",
    "import plotly.graph_objs as go\n",
    "from scipy.interpolate import make_interp_spline\n",
    "from sympy import primerange\n",
    "import os\n",
    "\n",
    "# === CONFIG ===\n",
    "output_dir = \"plotsf\"\n",
    "os.makedirs(output_dir, exist_ok=True)\n",
    "use_normalization = False      # Set to False to plot raw a_p\n",
    "spline_smooth = True          # Set to False to skip smoothed plot\n",
    "\n",
    "\n",
    "# Primes and sqrt(p)\n",
    "\n",
    "num_traces = num_primes\n",
    "sqrt_p = np.sqrt(primes)\n",
    "indices = np.arange(1, num_traces + 1)\n",
    "\n",
    "# Color palette for 8 classes\n",
    "colors = ['black', 'red', 'green', 'blue', 'orange', 'purple', 'brown', 'teal']\n",
    "\n",
    "# === SCATTER PLOT OF ALL CLASSES ===\n",
    "scatter_fig = go.Figure()\n",
    "\n",
    "for residue in range(8):\n",
    "    group = df[df['mod8'] == residue]\n",
    "    if group.empty:\n",
    "        continue\n",
    "\n",
    "    data_matrix = group[trace_cols].values\n",
    "    if use_normalization:\n",
    "        data_matrix = data_matrix / (2 * sqrt_p)  # Normalization\n",
    "\n",
    "    averages = data_matrix.mean(axis=0)\n",
    "\n",
    "    scatter_fig.add_trace(go.Scatter(\n",
    "        x=indices,\n",
    "        y=averages,\n",
    "        mode='markers',\n",
    "        name=f'n ≡ {residue} mod 8',\n",
    "        marker=dict(size=6, color=colors[residue]),\n",
    "        customdata=np.array([[p] for p in primes]),\n",
    "        hovertemplate='Index: %{x}<br>Prime: %{customdata[0]}<br>aₚ: %{y:.3f}<extra></extra>'\n",
    "    ))\n",
    "\n",
    "# Add Sato–Tate bounds (if normalized)\n",
    "if use_normalization:\n",
    "    scatter_fig.add_trace(go.Scatter(\n",
    "        x=indices,\n",
    "        y=np.ones_like(indices),\n",
    "        mode='lines',\n",
    "        name='Sato-Tate Bound (+1)',\n",
    "        line=dict(dash='dash', color='gray')\n",
    "    ))\n",
    "    scatter_fig.add_trace(go.Scatter(\n",
    "        x=indices,\n",
    "        y=-np.ones_like(indices),\n",
    "        mode='lines',\n",
    "        name='Sato-Tate Bound (−1)',\n",
    "        line=dict(dash='dash', color='gray')\n",
    "    ))\n",
    "\n",
    "scatter_fig.update_layout(\n",
    "    title='Average of Frobenius traces across residues mod 8 (scatter plot)',\n",
    "    xaxis_title='Prime Index',\n",
    "    yaxis_title='Average of normalized a_p values' if use_normalization else 'Average of a_p values',\n",
    "    template='plotly_white',\n",
    "    hovermode='x unified',\n",
    "    legend_title='Residue mod 8'\n",
    ")\n",
    "\n",
    "scatter_fig.write_html(f\"{output_dir}/all_residues_scatter_raw.html\")\n",
    "#scatter_fig.write_image(f\"{output_dir}/traces_avg_scatter_normal.jpeg\", engine=\"orca\")\n",
    "\n",
    "# === SMOOTHED SPLINE PLOT ===\n",
    "if spline_smooth:\n",
    "    spline_fig = go.Figure()\n",
    "\n",
    "    for residue in range(8):\n",
    "        group = df[df['mod8'] == residue]\n",
    "        if group.empty:\n",
    "            continue\n",
    "\n",
    "        data_matrix = group[trace_cols].values\n",
    "        if use_normalization:\n",
    "            data_matrix = data_matrix / (2 * sqrt_p)\n",
    "\n",
    "        averages = data_matrix.mean(axis=0)\n",
    "\n",
    "        # Cubic spline interpolation\n",
    "        spline = make_interp_spline(indices, averages, k=3)\n",
    "        x_smooth = np.linspace(indices.min(), indices.max(), 1000)\n",
    "        y_smooth = spline(x_smooth)\n",
    "\n",
    "        spline_fig.add_trace(go.Scatter(\n",
    "            x=x_smooth,\n",
    "            y=y_smooth,\n",
    "            mode='lines',\n",
    "            name=f'n ≡ {residue} mod 8',\n",
    "            line=dict(color=colors[residue])\n",
    "        ))\n",
    "\n",
    "    if use_normalization:\n",
    "        spline_fig.add_trace(go.Scatter(\n",
    "            x=x_smooth,\n",
    "            y=np.ones_like(x_smooth),\n",
    "            mode='lines',\n",
    "            name='Sato-Tate Bound (+1)',\n",
    "            line=dict(dash='dash', color='gray')\n",
    "        ))\n",
    "        spline_fig.add_trace(go.Scatter(\n",
    "            x=x_smooth,\n",
    "            y=-np.ones_like(x_smooth),\n",
    "            mode='lines',\n",
    "            name='Sato-Tate Bound (−1)',\n",
    "            line=dict(dash='dash', color='gray')\n",
    "        ))\n",
    "\n",
    "    spline_fig.update_layout(\n",
    "        title='Smoothed Frobenius traces by mod 8 (Spline)',\n",
    "        xaxis_title='Prime Index',\n",
    "        yaxis_title='Average of normalized a_p values' if use_normalization else 'Average of a_p values',\n",
    "        template='plotly_white',\n",
    "        hovermode='x unified',\n",
    "        legend_title='Residue mod 8'\n",
    "    )\n",
    "\n",
    "    spline_fig.write_html(f\"{output_dir}/all_residues_spline_raw.html\")\n",
    "    #spline_fig.write_image(f\"{output_dir}/traces_avg_smooth_normal.jpeg\", engine=\"orca\")"
   ]
  },
  {
   "cell_type": "code",
   "execution_count": null,
   "id": "030854ec",
   "metadata": {},
   "outputs": [],
   "source": []
  }
 ],
 "metadata": {
  "kernelspec": {
   "display_name": "Python 3 (ipykernel)",
   "language": "python",
   "name": "python3"
  },
  "language_info": {
   "codemirror_mode": {
    "name": "ipython",
    "version": 3
   },
   "file_extension": ".py",
   "mimetype": "text/x-python",
   "name": "python",
   "nbconvert_exporter": "python",
   "pygments_lexer": "ipython3",
   "version": "3.11.12"
  }
 },
 "nbformat": 4,
 "nbformat_minor": 5
}
