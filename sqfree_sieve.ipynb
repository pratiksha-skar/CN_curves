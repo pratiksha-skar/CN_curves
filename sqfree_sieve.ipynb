{
 "cells": [
  {
   "cell_type": "markdown",
   "id": "8bf62a77",
   "metadata": {},
   "source": [
    "Listing all the positive squarefree integers upto 2,000,000 using sieve."
   ]
  },
  {
   "cell_type": "code",
   "execution_count": 3,
   "id": "807faf54-a077-46f0-b07f-a3ec4aa7425f",
   "metadata": {},
   "outputs": [
    {
     "name": "stdout",
     "output_type": "stream",
     "text": [
      "Done. Found 1215877 squarefree numbers ≤ 2000000 using 15 processes.\n"
     ]
    }
   ],
   "source": [
    "import numpy as np\n",
    "import pandas as pd\n",
    "import math\n",
    "from multiprocessing import Pool, cpu_count\n",
    "\n",
    "N = 2_000_000\n",
    "NUM_WORKERS = cpu_count()\n",
    "\n",
    "def mark_multiples(args):\n",
    "    \"\"\"Marks non-squarefree numbers by setting False at multiples of square.\"\"\"\n",
    "    square, n = args\n",
    "    mask = np.ones(n + 1, dtype=bool)\n",
    "    for multiple in range(square, n + 1, square):\n",
    "        mask[multiple] = False\n",
    "    return mask\n",
    "\n",
    "def generate_squarefree_parallel(n, workers=NUM_WORKERS):\n",
    "    is_squarefree = np.ones(n + 1, dtype=bool)\n",
    "    is_squarefree[0] = False\n",
    "\n",
    "    max_root = int(math.isqrt(n)) + 1\n",
    "    squares = [i * i for i in range(2, max_root)]\n",
    "\n",
    "    with Pool(processes=workers) as pool:\n",
    "        results = pool.map(mark_multiples, [(sq, n) for sq in squares])\n",
    "\n",
    "    # Combine masks (elementwise AND)\n",
    "    for mask in results:\n",
    "        is_squarefree &= mask\n",
    "\n",
    "    return np.nonzero(is_squarefree)[0]\n",
    "\n",
    "def main():\n",
    "    squarefree_numbers = generate_squarefree_parallel(N)\n",
    "\n",
    "    # Save to CSV\n",
    "    pd.DataFrame({'n': squarefree_numbers}).to_csv(\"sqf2mil.csv\", index=False)\n",
    "\n",
    "    print(f\"Done. Found {len(squarefree_numbers)} squarefree numbers ≤ {N} using {NUM_WORKERS} processes.\")\n",
    "\n",
    "if __name__ == \"__main__\":\n",
    "    main()\n"
   ]
  },
  {
   "cell_type": "code",
   "execution_count": 1,
   "id": "e9e343ae",
   "metadata": {},
   "outputs": [
    {
     "name": "stdout",
     "output_type": "stream",
     "text": [
      "Requirement already satisfied: pyarrow in /home/elliptic/miniconda3/envs/congruent/lib/python3.11/site-packages (19.0.0)\n",
      "Requirement already satisfied: pandas in /home/elliptic/miniconda3/envs/congruent/lib/python3.11/site-packages (2.2.3)\n",
      "Requirement already satisfied: numpy>=1.23.2 in /home/elliptic/miniconda3/envs/congruent/lib/python3.11/site-packages (from pandas) (2.2.6)\n",
      "Requirement already satisfied: python-dateutil>=2.8.2 in /home/elliptic/miniconda3/envs/congruent/lib/python3.11/site-packages (from pandas) (2.9.0.post0)\n",
      "Requirement already satisfied: pytz>=2020.1 in /home/elliptic/miniconda3/envs/congruent/lib/python3.11/site-packages (from pandas) (2025.2)\n",
      "Requirement already satisfied: tzdata>=2022.7 in /home/elliptic/miniconda3/envs/congruent/lib/python3.11/site-packages (from pandas) (2025.2)\n",
      "Requirement already satisfied: six>=1.5 in /home/elliptic/miniconda3/envs/congruent/lib/python3.11/site-packages (from python-dateutil>=2.8.2->pandas) (1.17.0)\n"
     ]
    }
   ],
   "source": [
    "!pip install pyarrow pandas"
   ]
  },
  {
   "cell_type": "code",
   "execution_count": 2,
   "id": "ab2015e8-03e6-460f-9270-30301db374d8",
   "metadata": {},
   "outputs": [
    {
     "name": "stdout",
     "output_type": "stream",
     "text": [
      "/home/elliptic/miniconda3/envs/congruent/bin/python\r\n"
     ]
    }
   ],
   "source": [
    "!which python"
   ]
  },
  {
   "cell_type": "code",
   "execution_count": null,
   "id": "cdbcbc22",
   "metadata": {},
   "outputs": [],
   "source": []
  }
 ],
 "metadata": {
  "kernelspec": {
   "display_name": "Python 3 (ipykernel)",
   "language": "python",
   "name": "python3"
  },
  "language_info": {
   "codemirror_mode": {
    "name": "ipython",
    "version": 3
   },
   "file_extension": ".py",
   "mimetype": "text/x-python",
   "name": "python",
   "nbconvert_exporter": "python",
   "pygments_lexer": "ipython3",
   "version": "3.11.2"
  }
 },
 "nbformat": 4,
 "nbformat_minor": 5
}
