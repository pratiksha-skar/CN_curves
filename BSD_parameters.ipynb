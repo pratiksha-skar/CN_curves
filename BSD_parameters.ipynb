{
 "cells": [
  {
   "cell_type": "markdown",
   "id": "22a8b1bd",
   "metadata": {},
   "source": [
    "Computations of the BSD parameters: Tamagawa product, Omega and special value of the L-function for CN curves with n upto 1,000,000"
   ]
  },
  {
   "cell_type": "code",
   "execution_count": null,
   "id": "699ee9d4-eb41-4647-9f27-a67841b01870",
   "metadata": {},
   "outputs": [],
   "source": [
    "from sage.all import *\n",
    "from sage.parallel.decorate import parallel\n",
    "import csv\n",
    "import itertools\n",
    "import time\n",
    "\n",
    "INPUT_FILE = 'data_with_mod8.csv'\n",
    "OUTPUT_FILE = \"bsd_sqf1mil_new.csv\"\n",
    "CHUNK_SIZE = 150\n",
    "\n",
    "\n",
    "@parallel(ncpus=4)  # Adjust ncpus to match your machine\n",
    "def process_rows_parallel(chunk):\n",
    "    results = []\n",
    "    for row in chunk:\n",
    "        try:\n",
    "            n = Integer(row[0])\n",
    "            if n < 322061:\n",
    "                continue\n",
    "            ran = Integer(row[2])\n",
    "            #if not is_squarefree(n):\n",
    "                #continue\n",
    "\n",
    "            a4 = -(n)**2  # Already minimal for squarefree n\n",
    "            E = EllipticCurve([0, 0, 0, a4, 0])\n",
    "            #con = E.conductor()\n",
    "            tam = E.tamagawa_product()\n",
    "            omg = E.period_lattice().omega()\n",
    "            spl = E.lseries().dokchitser().derivative(1,ran)/ran.factorial()\n",
    "            tor = 4\n",
    "            results.append(row[0:] + [tam] + [tor] + [omg] + [spl])\n",
    "        except Exception as e:\n",
    "            print(f\"Error processing n={row[0]}: {e}\")\n",
    "    return results\n",
    "\n",
    "def stream_process_csv():\n",
    "    with open(INPUT_FILE, newline='') as infile:\n",
    "        reader = csv.reader(infile)\n",
    "        header = next(reader)\n",
    "        data_iter = iter(reader)\n",
    "\n",
    "        # Initialize output file with header if it doesn't exist\n",
    "        if not os.path.exists(OUTPUT_FILE):\n",
    "            with open(OUTPUT_FILE, 'w', newline='') as outfile:\n",
    "                writer = csv.writer(outfile)\n",
    "                head_new = header + ['tamagawa'] + ['torsion'] +['omega'] + ['special']\n",
    "                writer.writerow(head_new)\n",
    "\n",
    "        while True:\n",
    "            chunk = list(itertools.islice(data_iter, CHUNK_SIZE))\n",
    "            if not chunk:\n",
    "                break\n",
    "\n",
    "            for _, result in process_rows_parallel([chunk]):\n",
    "                with open(OUTPUT_FILE, 'a', newline='') as outfile:\n",
    "                    writer = csv.writer(outfile)\n",
    "                    for row in result:\n",
    "                        writer.writerow(row)\n",
    "\n",
    "# Run main processing\n",
    "stream_process_csv()\n"
   ]
  },
  {
   "cell_type": "code",
   "execution_count": null,
   "id": "246f940b",
   "metadata": {},
   "outputs": [],
   "source": []
  }
 ],
 "metadata": {
  "kernelspec": {
   "display_name": "SageMath 9.5",
   "language": "sage",
   "name": "sagemath"
  },
  "language_info": {
   "codemirror_mode": {
    "name": "ipython",
    "version": 3
   },
   "file_extension": ".py",
   "mimetype": "text/x-python",
   "name": "python",
   "nbconvert_exporter": "python",
   "pygments_lexer": "ipython3",
   "version": "3.11.2"
  }
 },
 "nbformat": 4,
 "nbformat_minor": 5
}
