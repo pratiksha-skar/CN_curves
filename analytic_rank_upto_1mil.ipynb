{
 "cells": [
  {
   "cell_type": "markdown",
   "id": "f0fa24e9",
   "metadata": {},
   "source": [
    "Computing analytic rank usinng Magma for CN curves with n upto 1,000,000"
   ]
  },
  {
   "cell_type": "code",
   "execution_count": null,
   "id": "7a771332",
   "metadata": {},
   "outputs": [
    {
     "name": "stdout",
     "output_type": "stream",
     "text": [
      "Parallelism settings: {'tensor': 1, 'linbox': 1}\n"
     ]
    }
   ],
   "source": [
    "from sage.all import *\n",
    "from sage.parallel.decorate import parallel\n",
    "import csv\n",
    "import itertools\n",
    "import time\n",
    "\n",
    "\n",
    "INPUT_FILE = \"sqfr1mil.csv\"\n",
    "OUTPUT_FILE = \"an_rk_upto_1mil.csv\"\n",
    "CHUNK_SIZE = 50\n",
    "\n",
    "Parallelism().set()  # Uses all available cores\n",
    "print(\"Parallelism settings:\", Parallelism().get_all())\n",
    "\n",
    "magma = Magma()\n",
    "\n",
    "@parallel(ncpus=15)  # Adjust ncpus to match your machine\n",
    "def process_rows_parallel(chunk):\n",
    "    results = []\n",
    "    for row in chunk:\n",
    "        try:\n",
    "            n = Integer(row[0])\n",
    "            a4 = -(n)**2  # Already minimal for squarefree n\n",
    "            E = EllipticCurve([a4,0])\n",
    "            an_rk_all = E.analytic_rank(algorithm='all')\n",
    "            an_rk_zero_sum = E.analytic_rank(algorithm='zero_sum')\n",
    "\n",
    "            magma_code = f'''\n",
    "                E := EllipticCurve([{0}, {0}, {0}, {a4}, {0}]);\n",
    "                AnalyticRank(E);\n",
    "                '''\n",
    "            #print(magma.eval(magma_code))\n",
    "            an_rk_magma, sp_val_magma = magma.eval(magma_code).split()\n",
    "            #results.append(row[0:] + [selmer2_rank] + [selmer3_rank])\n",
    "            results.append(row[0:] + [an_rk_all] + [an_rk_zero_sum] + [an_rk_magma] + [sp_val_magma] )\n",
    "        except Exception as e:\n",
    "            print(f\"Error processing n={row[0]}: {e}\")\n",
    "    return results\n",
    "\n",
    "def stream_process_csv():\n",
    "    with open(INPUT_FILE, newline='') as infile:\n",
    "        reader = csv.reader(infile)\n",
    "        header = next(reader)\n",
    "        data_iter = iter(reader)\n",
    "\n",
    "        # Initialize output file with header if it doesn't exist\n",
    "        if not os.path.exists(OUTPUT_FILE):\n",
    "            with open(OUTPUT_FILE, 'w', newline='') as outfile:\n",
    "                writer = csv.writer(outfile)\n",
    "                writer.writerow(header[0:] + ['an_rk_all'] + ['an_rk_zero_sum'] + ['an_rk_magma'] + ['sp_val_magma'])\n",
    "\n",
    "        while True:\n",
    "            chunk = list(itertools.islice(data_iter, CHUNK_SIZE))\n",
    "            if not chunk:\n",
    "                break\n",
    "\n",
    "            for _, result in process_rows_parallel([chunk]):\n",
    "                with open(OUTPUT_FILE, 'a', newline='') as outfile:\n",
    "                    writer = csv.writer(outfile)\n",
    "                    for row in result:\n",
    "                        writer.writerow(row)\n",
    "\n",
    "# Run main processing\n",
    "stream_process_csv()"
   ]
  },
  {
   "cell_type": "code",
   "execution_count": null,
   "id": "2a9acf6e",
   "metadata": {},
   "outputs": [],
   "source": []
  }
 ],
 "metadata": {
  "kernelspec": {
   "display_name": "SageMath 9.5",
   "language": "sage",
   "name": "sagemath"
  },
  "language_info": {
   "codemirror_mode": {
    "name": "ipython",
    "version": 3
   },
   "file_extension": ".py",
   "mimetype": "text/x-python",
   "name": "python",
   "nbconvert_exporter": "python",
   "pygments_lexer": "ipython3",
   "version": "3.11.2"
  }
 },
 "nbformat": 4,
 "nbformat_minor": 5
}
